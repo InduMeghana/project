{
 "cells": [
  {
   "cell_type": "markdown",
   "metadata": {},
   "source": [
    "# importing required libraries"
   ]
  },
  {
   "cell_type": "code",
   "execution_count": 1,
   "metadata": {},
   "outputs": [],
   "source": [
    "import torch\n",
    "from torch import nn\n",
    "from torch.autograd import Variable\n",
    "from torch.utils.data import DataLoader\n",
    "from torchvision import transforms\n",
    "from torchvision.datasets import MNIST\n",
    "from torchvision.utils import save_image\n",
    "from tqdm.notebook import tqdm"
   ]
  },
  {
   "cell_type": "markdown",
   "metadata": {},
   "source": [
    "# Defining function that adds noise"
   ]
  },
  {
   "cell_type": "code",
   "execution_count": 2,
   "metadata": {},
   "outputs": [],
   "source": [
    "def add_noise(img):\n",
    "    noise = torch.randn(img.size()) * 0.2\n",
    "    noisy_img = img + noise\n",
    "    return noisy_img"
   ]
  },
  {
   "cell_type": "markdown",
   "metadata": {},
   "source": [
    "# Transformations"
   ]
  },
  {
   "cell_type": "code",
   "execution_count": 3,
   "metadata": {},
   "outputs": [],
   "source": [
    "img_transform = transforms.Compose([\n",
    "    transforms.ToTensor(),\n",
    "    transforms.Normalize(mean=0,std=1)\n",
    "])"
   ]
  },
  {
   "cell_type": "markdown",
   "metadata": {},
   "source": [
    "# downloading and loading the data"
   ]
  },
  {
   "cell_type": "code",
   "execution_count": 4,
   "metadata": {},
   "outputs": [],
   "source": [
    "trainset = MNIST('./data',train=True,transform=img_transform, download=True)\n",
    "testset = MNIST('./data',train=False,transform=img_transform, download=True)\n",
    "trainloader = DataLoader(trainset, batch_size=32, shuffle=True)\n",
    "testloader=DataLoader(testset, batch_size=128, shuffle=False)"
   ]
  },
  {
   "cell_type": "markdown",
   "metadata": {},
   "source": [
    "# Defining model architecture"
   ]
  },
  {
   "cell_type": "code",
   "execution_count": 5,
   "metadata": {},
   "outputs": [],
   "source": [
    "class autoencoder(nn.Module):\n",
    "    def __init__(self):\n",
    "        super(autoencoder,self).__init__()\n",
    "        self.encoder=nn.Sequential(\n",
    "                  nn.Linear(28*28,256),\n",
    "                  nn.ReLU(True),\n",
    "                  nn.Linear(256,128),\n",
    "                  nn.ReLU(True),\n",
    "                  nn.Linear(128,64),\n",
    "                  nn.ReLU(True)\n",
    "        \n",
    "                  )\n",
    "    \n",
    "        self.decoder=nn.Sequential(\n",
    "                  nn.Linear(64,128),\n",
    "                  nn.ReLU(True),\n",
    "                  nn.Linear(128,256),\n",
    "                  nn.ReLU(True),\n",
    "                  nn.Linear(256,28*28),\n",
    "                  nn.Sigmoid(),\n",
    "                  )\n",
    "    \n",
    " \n",
    "    def forward(self,x):\n",
    "        x=self.encoder(x)\n",
    "        x=self.decoder(x)\n",
    "    \n",
    "        return x\n"
   ]
  },
  {
   "cell_type": "markdown",
   "metadata": {},
   "source": [
    "# Fuction that trains model"
   ]
  },
  {
   "cell_type": "code",
   "execution_count": 6,
   "metadata": {},
   "outputs": [],
   "source": [
    "def training(model,optimizer,criterion,epochs):\n",
    "    hist={\"loss\":[],\"MSE\":[]}\n",
    "    for epoch in tqdm(range(1,epochs+1),desc=\"Training\",total=epochs):\n",
    "        losses=[]\n",
    "        mselosses=[]\n",
    "        for data in trainloader:\n",
    "            img, _ = data\n",
    "            img = img.view(img.size(0), -1)\n",
    "            noisy_img = add_noise(img)\n",
    "            noisy_img = Variable(noisy_img)\n",
    "            img = Variable(img)\n",
    "        # ===================forward=====================\n",
    "            output = model(noisy_img)\n",
    "            loss = criterion(output, img)\n",
    "            losses.append(loss.item())\n",
    "            MSE_loss = nn.MSELoss()(output, img)\n",
    "            mselosses.append(MSE_loss.item())\n",
    "        # ===================backward====================\n",
    "            optimizer.zero_grad()\n",
    "            loss.backward()\n",
    "            optimizer.step()\n",
    "        # ===================log========================\n",
    "        hist[\"loss\"].append(np.array(losses).mean())\n",
    "        hist[\"MSE\"].append(np.array(mselosses).mean())\n",
    "    return hist"
   ]
  },
  {
   "cell_type": "markdown",
   "metadata": {},
   "source": [
    "# Hyperparameter initialisation and training"
   ]
  },
  {
   "cell_type": "code",
   "execution_count": 7,
   "metadata": {},
   "outputs": [
    {
     "data": {
      "application/vnd.jupyter.widget-view+json": {
       "model_id": "140cdd9197ba41fd82620da7c2b9167c",
       "version_major": 2,
       "version_minor": 0
      },
      "text/plain": [
       "HBox(children=(FloatProgress(value=0.0, description='Training', max=50.0, style=ProgressStyle(description_widt…"
      ]
     },
     "metadata": {},
     "output_type": "display_data"
    },
    {
     "name": "stdout",
     "output_type": "stream",
     "text": [
      "\n"
     ]
    }
   ],
   "source": [
    "model=autoencoder()\n",
    "criterion = nn.BCELoss()\n",
    "optimizer = torch.optim.Adam(\n",
    "    model.parameters(), lr=0.001)\n",
    "epochs=50\n",
    "hist=training(model,optimizer,criterion,epochs)"
   ]
  },
  {
   "cell_type": "markdown",
   "metadata": {},
   "source": [
    "# Visualising loss "
   ]
  },
  {
   "cell_type": "code",
   "execution_count": 8,
   "metadata": {},
   "outputs": [
    {
     "data": {
      "text/plain": [
       "<matplotlib.legend.Legend at 0x1f75b26bcc8>"
      ]
     },
     "execution_count": 8,
     "metadata": {},
     "output_type": "execute_result"
    },
    {
     "data": {
      "image/png": "[encoded data removed]",
      "text/plain": [
       "<Figure size 1008x504 with 2 Axes>"
      ]
     },
     "metadata": {
      "needs_background": "light"
     },
     "output_type": "display_data"
    }
   ],
   "source": [
    "fig,ax=plt.subplots(nrows=1,ncols=2,figsize=(14,7))\n",
    "ax[0].plot(range(1,epochs+1),hist[\"loss\"],label=\"BCE Loss\")\n",
    "ax[0].grid()\n",
    "ax[0].set_xlabel(\"Epochs\")\n",
    "ax[0].set_ylabel(\"Loss value\")\n",
    "ax[0].set_title(\"Epochs vs BCELoss\")\n",
    "ax[0].legend()\n",
    "ax[1].plot(range(1,epochs+1),hist[\"MSE\"],label=\"MSE Loss\")    \n",
    "ax[1].grid()\n",
    "ax[1].set_xlabel(\"Epochs\")\n",
    "ax[1].set_ylabel(\"loss\")\n",
    "ax[1].set_title(\"Epochs vs MSELoss\")\n",
    "ax[1].legend()"
   ]
  },
  {
   "cell_type": "code",
   "execution_count": 9,
   "metadata": {},
   "outputs": [],
   "source": [
    "torch.save(model.state_dict(),\"MNISTdenoisingweights.pth\")"
   ]
  },
  {
   "cell_type": "code",
   "execution_count": 16,
   "metadata": {},
   "outputs": [],
   "source": [
    "def to_img(x):\n",
    "    x = x.view(x.size(0), 1, 28, 28)\n",
    "    return x"
   ]
  },
  {
   "cell_type": "markdown",
   "metadata": {},
   "source": [
    "# performance on test data"
   ]
  },
  {
   "cell_type": "code",
   "execution_count": 17,
   "metadata": {},
   "outputs": [],
   "source": [
    "for i,data in enumerate(testloader):\n",
    "    if(i==1):\n",
    "        break;\n",
    "    img,_=data\n",
    "    img=img.view(img.size(0),-1)\n",
    "    noisy_img=add_noise(img)\n",
    "    output=model(noisy_img)\n",
    "    img=Variable(img)\n",
    "    noisy_image=Variable(noisy_img)\n",
    "    original= to_img(img)\n",
    "    clear= to_img(output)\n",
    "    noised= to_img(noisy_img)\n",
    "    save_image(original, './outputs/original.png')\n",
    "    save_image(noised, './outputs/noised.png')\n",
    "    save_image(clear, './outputs/clear.png')\n"
   ]
  },
  {
   "cell_type": "code",
   "execution_count": null,
   "metadata": {},
   "outputs": [],
   "source": []
  }
 ],
 "metadata": {
  "kernelspec": {
   "display_name": "Python 3",
   "language": "python",
   "name": "python3"
  },
  "language_info": {
   "codemirror_mode": {
    "name": "ipython",
    "version": 3
   },
   "file_extension": ".py",
   "mimetype": "text/x-python",
   "name": "python",
   "nbconvert_exporter": "python",
   "pygments_lexer": "ipython3",
   "version": "3.7.6"
  },
  "widgets": {
   "application/vnd.jupyter.widget-state+json": {
    "state": {
     "01ceacd30f6b4fcaa55ef41c71839147": {
      "model_module": "@jupyter-widgets/controls",
      "model_module_version": "1.5.0",
      "model_name": "DescriptionStyleModel",
      "state": {
       "description_width": ""
      }
     },
     "140cdd9197ba41fd82620da7c2b9167c": {
      "model_module": "@jupyter-widgets/controls",
      "model_module_version": "1.5.0",
      "model_name": "HBoxModel",
      "state": {
       "children": [
        "IPY_MODEL_73eaa79a8d33403dbfb6d902bb47c8c1",
        "IPY_MODEL_d9a35c44b9064828ab9c9adc06a57398"
       ],
       "layout": "IPY_MODEL_f18949d05bbf4a449007f0dd70594a06"
      }
     },
     "1bdb283a018c46f39d80c6391ffa478b": {
      "model_module": "@jupyter-widgets/base",
      "model_module_version": "1.2.0",
      "model_name": "LayoutModel",
      "state": {}
     },
     "4610e3aa12fb4b1fa9886096cc7b5cf8": {
      "model_module": "@jupyter-widgets/base",
      "model_module_version": "1.2.0",
      "model_name": "LayoutModel",
      "state": {}
     },
     "73eaa79a8d33403dbfb6d902bb47c8c1": {
      "model_module": "@jupyter-widgets/controls",
      "model_module_version": "1.5.0",
      "model_name": "FloatProgressModel",
      "state": {
       "bar_style": "success",
       "description": "Training: 100%",
       "layout": "IPY_MODEL_dc8b924e4fe3458fa859c2c25e6a3b7d",
       "max": 50,
       "style": "IPY_MODEL_cd36950376de480b8d7d3fc7e3bc4b23",
       "value": 50
      }
     },
     "7d93c56543cc425aa9420ea4713c0907": {
      "model_module": "@jupyter-widgets/controls",
      "model_module_version": "1.5.0",
      "model_name": "ProgressStyleModel",
      "state": {
       "description_width": "initial"
      }
     },
     "7fe0e726fbe74412ae4d8c0e33a352d2": {
      "model_module": "@jupyter-widgets/controls",
      "model_module_version": "1.5.0",
      "model_name": "DescriptionStyleModel",
      "state": {
       "description_width": ""
      }
     },
     "90f5f939e8e44dd798fe19a872eba6cd": {
      "model_module": "@jupyter-widgets/controls",
      "model_module_version": "1.5.0",
      "model_name": "HTMLModel",
      "state": {
       "layout": "IPY_MODEL_d76179228172496ca0de6ede65fcac82",
       "style": "IPY_MODEL_7fe0e726fbe74412ae4d8c0e33a352d2",
       "value": " 50/50 [1:53:08&lt;00:00, 135.77s/it]"
      }
     },
     "a43732e4a5564c348ad44fb2d3fd038e": {
      "model_module": "@jupyter-widgets/controls",
      "model_module_version": "1.5.0",
      "model_name": "HBoxModel",
      "state": {
       "children": [
        "IPY_MODEL_e4f5ee7f23864526aa4a19b54b642bf5",
        "IPY_MODEL_90f5f939e8e44dd798fe19a872eba6cd"
       ],
       "layout": "IPY_MODEL_fa00525189354cce85c4912cbab0c6de"
      }
     },
     "a69b233b2eef4d84be02da09acff126e": {
      "model_module": "@jupyter-widgets/controls",
      "model_module_version": "1.5.0",
      "model_name": "HBoxModel",
      "state": {
       "children": [
        "IPY_MODEL_cdb8312acd6d49bbbfa7b554f9935978",
        "IPY_MODEL_da8a6a73151c4faeb329dff7eef915c9"
       ],
       "layout": "IPY_MODEL_d13253ff313d4734b7d12b3fefbbbd75"
      }
     },
     "b3c3102e06874a8e9f39ecdb16d6cff5": {
      "model_module": "@jupyter-widgets/base",
      "model_module_version": "1.2.0",
      "model_name": "LayoutModel",
      "state": {}
     },
     "bc7765dade7543acb2193c62791d1e2b": {
      "model_module": "@jupyter-widgets/base",
      "model_module_version": "1.2.0",
      "model_name": "LayoutModel",
      "state": {}
     },
     "cd36950376de480b8d7d3fc7e3bc4b23": {
      "model_module": "@jupyter-widgets/controls",
      "model_module_version": "1.5.0",
      "model_name": "ProgressStyleModel",
      "state": {
       "description_width": "initial"
      }
     },
     "cdb8312acd6d49bbbfa7b554f9935978": {
      "model_module": "@jupyter-widgets/controls",
      "model_module_version": "1.5.0",
      "model_name": "FloatProgressModel",
      "state": {
       "bar_style": "danger",
       "description": "Training:   4%",
       "layout": "IPY_MODEL_bc7765dade7543acb2193c62791d1e2b",
       "max": 50,
       "style": "IPY_MODEL_db11815e383d4074bcb292ff4b0ee8fa",
       "value": 2
      }
     },
     "d13253ff313d4734b7d12b3fefbbbd75": {
      "model_module": "@jupyter-widgets/base",
      "model_module_version": "1.2.0",
      "model_name": "LayoutModel",
      "state": {}
     },
     "d76179228172496ca0de6ede65fcac82": {
      "model_module": "@jupyter-widgets/base",
      "model_module_version": "1.2.0",
      "model_name": "LayoutModel",
      "state": {}
     },
     "d9a35c44b9064828ab9c9adc06a57398": {
      "model_module": "@jupyter-widgets/controls",
      "model_module_version": "1.5.0",
      "model_name": "HTMLModel",
      "state": {
       "layout": "IPY_MODEL_4610e3aa12fb4b1fa9886096cc7b5cf8",
       "style": "IPY_MODEL_fe73a1261dc84ea99c3b0ac1c51e6800",
       "value": " 50/50 [1:13:52&lt;00:00, 88.64s/it]"
      }
     },
     "da8a6a73151c4faeb329dff7eef915c9": {
      "model_module": "@jupyter-widgets/controls",
      "model_module_version": "1.5.0",
      "model_name": "HTMLModel",
      "state": {
       "layout": "IPY_MODEL_b3c3102e06874a8e9f39ecdb16d6cff5",
       "style": "IPY_MODEL_01ceacd30f6b4fcaa55ef41c71839147",
       "value": " 2/50 [04:22&lt;1:11:39, 89.58s/it]"
      }
     },
     "db11815e383d4074bcb292ff4b0ee8fa": {
      "model_module": "@jupyter-widgets/controls",
      "model_module_version": "1.5.0",
      "model_name": "ProgressStyleModel",
      "state": {
       "description_width": "initial"
      }
     },
     "dc8b924e4fe3458fa859c2c25e6a3b7d": {
      "model_module": "@jupyter-widgets/base",
      "model_module_version": "1.2.0",
      "model_name": "LayoutModel",
      "state": {}
     },
     "e4f5ee7f23864526aa4a19b54b642bf5": {
      "model_module": "@jupyter-widgets/controls",
      "model_module_version": "1.5.0",
      "model_name": "FloatProgressModel",
      "state": {
       "bar_style": "success",
       "description": "Training: 100%",
       "layout": "IPY_MODEL_1bdb283a018c46f39d80c6391ffa478b",
       "max": 50,
       "style": "IPY_MODEL_7d93c56543cc425aa9420ea4713c0907",
       "value": 50
      }
     },
     "f18949d05bbf4a449007f0dd70594a06": {
      "model_module": "@jupyter-widgets/base",
      "model_module_version": "1.2.0",
      "model_name": "LayoutModel",
      "state": {}
     },
     "fa00525189354cce85c4912cbab0c6de": {
      "model_module": "@jupyter-widgets/base",
      "model_module_version": "1.2.0",
      "model_name": "LayoutModel",
      "state": {}
     },
     "fe73a1261dc84ea99c3b0ac1c51e6800": {
      "model_module": "@jupyter-widgets/controls",
      "model_module_version": "1.5.0",
      "model_name": "DescriptionStyleModel",
      "state": {
       "description_width": ""
      }
     }
    },
    "version_major": 2,
    "version_minor": 0
   }
  }
 },
 "nbformat": 4,
 "nbformat_minor": 4
}
